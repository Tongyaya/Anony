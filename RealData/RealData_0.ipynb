{
 "cells": [
  {
   "cell_type": "code",
   "execution_count": 1,
   "metadata": {},
   "outputs": [],
   "source": [
    "import os,shutil,random,re\n",
    "import numpy as np\n",
    "import time\n",
    "import json\n",
    "import cv2\n",
    "from matplotlib import pyplot as plt\n",
    "from PIL import Image\n",
    "np.set_printoptions(suppress=True)"
   ]
  },
  {
   "cell_type": "code",
   "execution_count": 2,
   "metadata": {},
   "outputs": [],
   "source": [
    "def check_size_all_from_path(data_dir, dx = 1280, dy = 720):\n",
    "    '''\n",
    "    Check the size of the picture according to the path\n",
    "    # Input: Path, expected picture size\n",
    "    # Output: For each category, the total quantity, and the quantity that does not meet the requirements\n",
    "    '''\n",
    "    poses = [] # Store the names of the pictures for all categories.\n",
    "    cates = os.listdir(data_dir) # How many categories under this path\n",
    "    print(f'# classes {len(cates)}')\n",
    "    nums_wrongsize = np.zeros(len(cates)) \n",
    "    nums = np.zeros(len(cates)) \n",
    "    for k in range(len(cates)): \n",
    "        poses.append(os.listdir(data_dir+'/'+cates[k]))  \n",
    "        nums[k] = len(os.listdir(data_dir+'/'+cates[k])) \n",
    "    for k in range(len(cates)): # Check the number of unexpected pictures\n",
    "        _t0 = time.time()\n",
    "        for i in range(len(poses[k])):\n",
    "            _img = Image.open(data_dir+'/'+cates[k]+'/'+poses[k][i])\n",
    "            if _img.size[1] != dx or _img.size[0] != dy:\n",
    "                nums_wrongsize[k] += 1\n",
    "        _t1 = time.time(); print(f'Cate{k}: {np.round(_t1-_t0,2)}s')  \n",
    "    print(cates,'\\n',nums,'\\n', nums_wrongsize)"
   ]
  },
  {
   "cell_type": "code",
   "execution_count": 3,
   "metadata": {},
   "outputs": [
    {
     "name": "stdout",
     "output_type": "stream",
     "text": [
      "# classes 9\n",
      "Cate0: 5.43s\n",
      "Cate1: 17.99s\n",
      "Cate2: 4.59s\n",
      "Cate3: 3.04s\n",
      "Cate4: 4.52s\n",
      "Cate5: 0.0s\n",
      "Cate6: 3.07s\n",
      "Cate7: 4.54s\n",
      "Cate8: 5.27s\n",
      "['A6L', 'Q5L Sportback', 'A4L', 'A3 Sportback', 'RS5', '.ipynb_checkpoints', 'A7 Sportback', 'Q7', 'A5 Sportback'] \n",
      " [347. 386. 340. 334. 307.   0. 241. 289. 315.] \n",
      " [0. 0. 0. 0. 0. 0. 0. 0. 0.]\n"
     ]
    }
   ],
   "source": [
    "data_dir = '/mnt/multi-class_simu/real data/Audi/data/Images_all_8cls'\n",
    "check_size_all_from_path(data_dir, dx = 1280, dy = 720)"
   ]
  },
  {
   "cell_type": "code",
   "execution_count": 3,
   "metadata": {},
   "outputs": [],
   "source": [
    "cate_order = ['0','A3 Sportback','A4L','A5 Sportback','A6L', 'A7 Sportback', 'Q5L Sportback', 'Q7', 'RS5']\n",
    "cate = cate_order[1:]\n",
    "m = np.load('/mnt/multi-class_simu/real data/Audi/data/master_file_8cls.npy').tolist()"
   ]
  },
  {
   "cell_type": "code",
   "execution_count": 55,
   "metadata": {},
   "outputs": [],
   "source": [
    "def check_size_bbox_all(data_dir, master_file, dx = 1280, dy = 720):\n",
    "    for i in range(len(master_file)):\n",
    "        if i % 1000 == 0: _t0 = time.time()\n",
    "        infor = master_file[i].split('\\t')\n",
    "        _name = infor[1]; _cate = infor[0]\n",
    "        _box = re.split('[\\[;,;\\n;\\]; ]',infor[-1])\n",
    "        _ymin = int(_box[5]); _ymax = int(_box[7])\n",
    "        _xmin = int(_box[1]); _xmax = int(_box[3]) \n",
    "\n",
    "        _img = Image.open(data_dir+_cate+'/'+_name)\n",
    "        if _img.size[1] != dx or _img.size[0] != dy:\n",
    "            print(infor)\n",
    "        if i % 1000 == 0: _t1 = time.time(); print(f'pic{i}: {np.round(_t1-_t0,2)}s')  "
   ]
  },
  {
   "cell_type": "code",
   "execution_count": 57,
   "metadata": {},
   "outputs": [
    {
     "name": "stdout",
     "output_type": "stream",
     "text": [
      "pic0: 0.0s\n",
      "pic1000: 0.0s\n",
      "pic2000: 0.0s\n"
     ]
    }
   ],
   "source": [
    "data_dir = '/mnt/multi-class_simu/real data/Audi/data/Images_all_8cls/'\n",
    "check_size_bbox_all(data_dir, m, dx = 1280, dy = 720)"
   ]
  },
  {
   "cell_type": "code",
   "execution_count": 6,
   "metadata": {},
   "outputs": [],
   "source": [
    "# Split the train data and test data\n",
    "np.random.seed(0)\n",
    "idx_train = np.random.choice(np.arange(len(m)), int(0.8*len(m)), replace = False)\n",
    "idx_train = np.sort(idx_train)\n",
    "idx_test = np.setdiff1d(np.arange(len(m)), idx_train)\n",
    "\n",
    "master_file_train = list(np.array(m)[idx_train])\n",
    "master_file_test = list(np.array(m)[idx_test])"
   ]
  },
  {
   "cell_type": "code",
   "execution_count": null,
   "metadata": {},
   "outputs": [],
   "source": []
  }
 ],
 "metadata": {
  "kernelspec": {
   "display_name": "myconda",
   "language": "python",
   "name": "myconda"
  },
  "language_info": {
   "codemirror_mode": {
    "name": "ipython",
    "version": 3
   },
   "file_extension": ".py",
   "mimetype": "text/x-python",
   "name": "python",
   "nbconvert_exporter": "python",
   "pygments_lexer": "ipython3",
   "version": "3.7.6"
  }
 },
 "nbformat": 4,
 "nbformat_minor": 5
}
