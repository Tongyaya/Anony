{
 "cells": [
  {
   "cell_type": "code",
   "execution_count": 1,
   "metadata": {},
   "outputs": [],
   "source": [
    "import numpy as np\n",
    "import math\n",
    "import time\n",
    "import pandas as pd\n",
    "import os\n",
    "from scipy.stats import norm\n",
    "from copy import deepcopy\n",
    "from functools import partial\n",
    "from matplotlib import pyplot as plt\n",
    "import seaborn as sns\n",
    "np.set_printoptions(suppress=True)"
   ]
  },
  {
   "cell_type": "code",
   "execution_count": 3,
   "metadata": {},
   "outputs": [],
   "source": [
    "nsimu=100; p=10; K=11; K0_pval = 0.9 # simu1-pKsmall\n",
    "# nsimu=100; p=50; K=21; K0_pval = 0.9 # simu1-pKmedium\n",
    "# nsimu=100; p=500; K=51; K0_pval = 0.9 # simu1-pKlarge"
   ]
  },
  {
   "cell_type": "code",
   "execution_count": 4,
   "metadata": {},
   "outputs": [
    {
     "name": "stdout",
     "output_type": "stream",
     "text": [
      "t_nr=1.227s, t_gd=6.883s, t_pmle=0.246s\n",
      "N_k_mean=506.67\n",
      "N0=94933.0\n",
      "t_nr=2.584s, t_gd=7.536s, t_pmle=0.351s\n",
      "N_k_mean=729.5\n",
      "N0=192705.0\n",
      "t_nr=7.239s, t_gd=39.948s, t_pmle=0.774s\n",
      "N_k_mean=1172.07\n",
      "N0=488279.0\n"
     ]
    }
   ],
   "source": [
    "mnt_path = '/mnt/multi-class_simu/simulation/result/simu1/'\n",
    "\n",
    "data = np.load(mnt_path+f'N1_K{K}_p{p}_K0_pval[{K0_pval}].npz')\n",
    "beta_pmle_1 = data['beta_pmle']; beta_nr_1 = data['beta_nr']; beta_gd_1 = data['beta_gd']; \n",
    "beta_true_1 = np.ones([nsimu,p+1,K-1])*data['beta_true']\n",
    "t_nr = data['t_nr']; t_gd = data['t_gd']; t_pmle = data['t_pmle']; num_pos_idxs = data['num_pos_idxs']\n",
    "\n",
    "print(f't_nr={np.round(np.mean(t_nr),3)}s, t_gd={np.round(np.mean(t_gd),3)}s, t_pmle={np.round(np.mean(t_pmle),3)}s')\n",
    "print(f'N_k_mean={np.round(np.mean(np.mean(num_pos_idxs,0)[1:]),2)}')\n",
    "print(f'N0={np.round(np.mean(num_pos_idxs,0)[0])}')\n",
    "\n",
    "rmse_pmle = np.sqrt(np.mean(np.mean((beta_true_1-beta_pmle_1)**2,2),1))\n",
    "rmse_nr = np.sqrt(np.mean(np.mean((beta_true_1-beta_nr_1)**2,2),1))\n",
    "rmse_gd = np.sqrt(np.mean(np.mean((beta_true_1-beta_gd_1)**2,2),1))\n",
    "rmse_1 = np.concatenate((rmse_nr.reshape([nsimu,1]),rmse_gd.reshape([nsimu,1]),rmse_pmle.reshape([nsimu,1])),0)\n",
    "\n",
    "####\n",
    "data = np.load(mnt_path+f'N2_K{K}_p{p}_K0_pval[{K0_pval}].npz')\n",
    "beta_pmle_2 = data['beta_pmle']; beta_nr_2 = data['beta_nr']; beta_gd_2 = data['beta_gd']; \n",
    "beta_true_2 = np.ones([nsimu,p+1,K-1])*data['beta_true']\n",
    "t_nr = data['t_nr']; t_gd = data['t_gd']; t_pmle = data['t_pmle']; num_pos_idxs = data['num_pos_idxs']\n",
    "\n",
    "print(f't_nr={np.round(np.mean(t_nr),3)}s, t_gd={np.round(np.mean(t_gd),3)}s, t_pmle={np.round(np.mean(t_pmle),3)}s')\n",
    "print(f'N_k_mean={np.round(np.mean(np.mean(num_pos_idxs,0)[1:]),2)}')\n",
    "print(f'N0={np.round(np.mean(num_pos_idxs,0)[0])}')\n",
    "\n",
    "rmse_pmle = np.sqrt(np.mean(np.mean((beta_true_2-beta_pmle_2)**2,2),1))\n",
    "rmse_nr = np.sqrt(np.mean(np.mean((beta_true_2-beta_nr_2)**2,2),1))\n",
    "rmse_gd = np.sqrt(np.mean(np.mean((beta_true_2-beta_gd_2)**2,2),1))\n",
    "rmse_2 = np.concatenate((rmse_nr.reshape([nsimu,1]),rmse_gd.reshape([nsimu,1]),rmse_pmle.reshape([nsimu,1])),0)\n",
    "\n",
    "####\n",
    "data = np.load(mnt_path+f'N5_K{K}_p{p}_K0_pval[{K0_pval}].npz')\n",
    "beta_pmle_3 = data['beta_pmle']; beta_nr_3 = data['beta_nr']; beta_gd_3 = data['beta_gd']; \n",
    "beta_true_3 = np.ones([nsimu,p+1,K-1])*data['beta_true']\n",
    "t_nr = data['t_nr']; t_gd = data['t_gd']; t_pmle = data['t_pmle']; num_pos_idxs = data['num_pos_idxs']\n",
    "\n",
    "print(f't_nr={np.round(np.mean(t_nr),3)}s, t_gd={np.round(np.mean(t_gd),3)}s, t_pmle={np.round(np.mean(t_pmle),3)}s')\n",
    "print(f'N_k_mean={np.round(np.mean(np.mean(num_pos_idxs,0)[1:]),2)}')\n",
    "print(f'N0={np.round(np.mean(num_pos_idxs,0)[0])}')\n",
    "\n",
    "rmse_pmle = np.sqrt(np.mean(np.mean((beta_true_3-beta_pmle_3)**2,2),1))\n",
    "rmse_nr = np.sqrt(np.mean(np.mean((beta_true_3-beta_nr_3)**2,2),1))\n",
    "rmse_gd = np.sqrt(np.mean(np.mean((beta_true_3-beta_gd_3)**2,2),1))\n",
    "rmse_3 = np.concatenate((rmse_nr.reshape([nsimu,1]),rmse_gd.reshape([nsimu,1]),rmse_pmle.reshape([nsimu,1])),0)\n",
    "\n",
    "rmse = np.concatenate((rmse_1,rmse_2,rmse_3), 0)"
   ]
  },
  {
   "cell_type": "code",
   "execution_count": 5,
   "metadata": {},
   "outputs": [],
   "source": [
    "n_estis = 3\n",
    "n_Ns = 3\n",
    "\n",
    "N =[1]*n_estis*nsimu\n",
    "N.extend([2]*n_estis*nsimu)  \n",
    "N.extend([3]*n_estis*nsimu)\n",
    "\n",
    "cls = ['GMLE (NR)']*nsimu\n",
    "cls.extend(['GMLE (GD)']*nsimu) \n",
    "cls.extend(['PMLE']*nsimu) \n",
    "cls = cls*n_Ns\n",
    "\n",
    "data = pd.DataFrame((N,rmse,cls)).T\n",
    "data.columns = ['N','RMSE','Estimators']\n",
    "data = data.astype({'N':'category', 'RMSE':'float32','Estimators':'category'}) \n",
    "\n",
    "data.iloc[:,1] = np.log(data.iloc[:,1])"
   ]
  },
  {
   "cell_type": "code",
   "execution_count": 7,
   "metadata": {},
   "outputs": [
    {
     "data": {
      "image/png": "[encoded data removed]",
      "text/plain": [
       "<Figure size 432x288 with 1 Axes>"
      ]
     },
     "metadata": {
      "needs_background": "light"
     },
     "output_type": "display_data"
    }
   ],
   "source": [
    "my_pal = {'GMLE (NR)': 'white','GMLE (GD)': 'lightgray', 'PMLE': 'gray'} \n",
    "sns.boxplot(data=data, x='N', hue='Estimators', y='RMSE',\n",
    "                saturation=0.3, width=0.5, \n",
    "                palette=my_pal,\n",
    "           hue_order=['GMLE (NR)','GMLE (GD)','PMLE']) \n",
    "plt.xticks(ticks= [0,1,2],labels = [r'$10^5$',r'$2\\times 10^5$',r'$5\\times 10^5$'],)\n",
    "plt.ylabel('log(RMSE)')\n",
    "# plt.savefig(mnt_path+'RMSE_box_small.png', dpi=600, bbox_inches='tight')\n",
    "plt.show()"
   ]
  },
  {
   "cell_type": "code",
   "execution_count": 32,
   "metadata": {},
   "outputs": [
    {
     "name": "stdout",
     "output_type": "stream",
     "text": [
      "0.039 0.039\n",
      "477607.47 1119.63 128540.79\n"
     ]
    }
   ],
   "source": [
    "'''\n",
    "simu2 SPMLE Visualization\n",
    "'''\n",
    "N = 1*10**5; K=21; p=50; K0_pval=0.9; pi_record=-0.1\n",
    "data = np.load(f'/mnt/multi-class_simu/simulation/result/simu2/SPMLE_N{int(N/10**5)}_K{K}_p{p}_K0_pval[0.9]_pi{pi_record}.npz')\n",
    "beta_pmle = data['beta_pmle']; beta_sub = data['beta_sub']; beta_true = data['beta_true'];\n",
    "num_pos_idxs=data['num_pos_idxs']; num_pos_idxs_sub=data['num_pos_idxs_sub']\n",
    "bias = -0.1*np.log(N)\n",
    "beta_sub[:,0,:] = beta_sub[:,0,:]+bias\n",
    "rmse_pmle = np.mean(np.sqrt(np.mean(np.mean((beta_pmle-beta_true)**2,2),1)))\n",
    "rmse_sub = np.mean(np.sqrt(np.mean(np.mean((beta_sub-beta_true)**2,2),1)))\n",
    "\n",
    "print(np.round(rmse_pmle,3),np.round(rmse_sub,3))\n",
    "print(np.round(np.mean(num_pos_idxs[:,0]),2), np.round(np.mean(num_pos_idxs[:,1:]),2),np.round(np.mean(num_pos_idxs_sub),2))"
   ]
  },
  {
   "cell_type": "code",
   "execution_count": null,
   "metadata": {},
   "outputs": [],
   "source": []
  }
 ],
 "metadata": {
  "kernelspec": {
   "display_name": "myconda",
   "language": "python",
   "name": "myconda"
  },
  "language_info": {
   "codemirror_mode": {
    "name": "ipython",
    "version": 3
   },
   "file_extension": ".py",
   "mimetype": "text/x-python",
   "name": "python",
   "nbconvert_exporter": "python",
   "pygments_lexer": "ipython3",
   "version": "3.7.6"
  }
 },
 "nbformat": 4,
 "nbformat_minor": 4
}
